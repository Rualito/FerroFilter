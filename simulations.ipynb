{
 "cells": [
  {
   "cell_type": "code",
   "execution_count": 1,
   "metadata": {},
   "outputs": [],
   "source": [
    "import numpy as np\n",
    "import matplotlib.pyplot as plt\n",
    "\n",
    "from pde import CartesianGrid, solve_laplace_equation\n",
    "from sfepy import data_dir\n",
    "\n",
    "from __future__ import absolute_import\n",
    "from sfepy.discrete.fem.meshio import UserMeshIO\n",
    "from sfepy.mesh.mesh_generators import gen_block_mesh\n"
   ]
  },
  {
   "cell_type": "code",
   "execution_count": 2,
   "metadata": {},
   "outputs": [
    {
     "data": {
      "text/plain": [
       "array([[1.  ],\n",
       "       [0.25]])"
      ]
     },
     "execution_count": 2,
     "metadata": {},
     "output_type": "execute_result"
    }
   ],
   "source": [
    "v0 = np.array([1, 0.25])\n",
    "\n",
    "v0.reshape(-1,1)"
   ]
  },
  {
   "cell_type": "markdown",
   "metadata": {},
   "source": [
    "## Simple tests"
   ]
  },
  {
   "cell_type": "code",
   "execution_count": 3,
   "metadata": {},
   "outputs": [
    {
     "data": {
      "text/plain": [
       "CartesianGrid(bounds=((0.0, 6.283185307179586), (0.0, 6.283185307179586)), shape=(64, 64), periodic=[False, False])"
      ]
     },
     "execution_count": 3,
     "metadata": {},
     "output_type": "execute_result"
    }
   ],
   "source": [
    "grid"
   ]
  },
  {
   "cell_type": "code",
   "execution_count": 2,
   "metadata": {},
   "outputs": [
    {
     "ename": "NotImplementedError",
     "evalue": "3-dimensional Laplace matrix not implemented",
     "output_type": "error",
     "traceback": [
      "\u001b[0;31m---------------------------------------------------------------------------\u001b[0m",
      "\u001b[0;31mNotImplementedError\u001b[0m                       Traceback (most recent call last)",
      "Cell \u001b[0;32mIn[2], line 4\u001b[0m\n\u001b[1;32m      1\u001b[0m grid \u001b[38;5;241m=\u001b[39m CartesianGrid([[\u001b[38;5;241m0\u001b[39m, \u001b[38;5;241m2\u001b[39m \u001b[38;5;241m*\u001b[39m np\u001b[38;5;241m.\u001b[39mpi]] \u001b[38;5;241m*\u001b[39m \u001b[38;5;241m3\u001b[39m, \u001b[38;5;241m64\u001b[39m)\n\u001b[1;32m      2\u001b[0m bcs \u001b[38;5;241m=\u001b[39m [{\u001b[38;5;124m\"\u001b[39m\u001b[38;5;124mvalue\u001b[39m\u001b[38;5;124m\"\u001b[39m: \u001b[38;5;124m\"\u001b[39m\u001b[38;5;124msin(y)\u001b[39m\u001b[38;5;124m\"\u001b[39m}, {\u001b[38;5;124m\"\u001b[39m\u001b[38;5;124mvalue\u001b[39m\u001b[38;5;124m\"\u001b[39m: \u001b[38;5;124m\"\u001b[39m\u001b[38;5;124msin(x)\u001b[39m\u001b[38;5;124m\"\u001b[39m}, {\u001b[38;5;124m\"\u001b[39m\u001b[38;5;124mvalue\u001b[39m\u001b[38;5;124m\"\u001b[39m:\u001b[38;5;124m\"\u001b[39m\u001b[38;5;124msin(z)\u001b[39m\u001b[38;5;124m\"\u001b[39m}]\n\u001b[0;32m----> 4\u001b[0m res \u001b[38;5;241m=\u001b[39m \u001b[43msolve_laplace_equation\u001b[49m\u001b[43m(\u001b[49m\u001b[43mgrid\u001b[49m\u001b[43m,\u001b[49m\u001b[43m \u001b[49m\u001b[43mbcs\u001b[49m\u001b[43m)\u001b[49m\n\u001b[1;32m      5\u001b[0m res\u001b[38;5;241m.\u001b[39mplot()\n",
      "File \u001b[0;32m~/.local/share/virtualenvs/FerroFilter-1Ki31drB/lib/python3.10/site-packages/pde/pdes/laplace.py:104\u001b[0m, in \u001b[0;36msolve_laplace_equation\u001b[0;34m(grid, bc, label)\u001b[0m\n\u001b[1;32m     85\u001b[0m \u001b[38;5;124;03m\"\"\"Solve Laplace's equation on a given grid.\u001b[39;00m\n\u001b[1;32m     86\u001b[0m \n\u001b[1;32m     87\u001b[0m \u001b[38;5;124;03mThis is implemented by calling :func:`solve_poisson_equation` with a\u001b[39;00m\n\u001b[0;32m   (...)\u001b[0m\n\u001b[1;32m    101\u001b[0m \u001b[38;5;124;03m    equation. This field will be defined on the given `grid`.\u001b[39;00m\n\u001b[1;32m    102\u001b[0m \u001b[38;5;124;03m\"\"\"\u001b[39;00m\n\u001b[1;32m    103\u001b[0m rhs \u001b[38;5;241m=\u001b[39m ScalarField(grid, data\u001b[38;5;241m=\u001b[39m\u001b[38;5;241m0\u001b[39m)\n\u001b[0;32m--> 104\u001b[0m \u001b[38;5;28;01mreturn\u001b[39;00m \u001b[43msolve_poisson_equation\u001b[49m\u001b[43m(\u001b[49m\u001b[43mrhs\u001b[49m\u001b[43m,\u001b[49m\u001b[43m \u001b[49m\u001b[43mbc\u001b[49m\u001b[38;5;241;43m=\u001b[39;49m\u001b[43mbc\u001b[49m\u001b[43m,\u001b[49m\u001b[43m \u001b[49m\u001b[43mlabel\u001b[49m\u001b[38;5;241;43m=\u001b[39;49m\u001b[43mlabel\u001b[49m\u001b[43m)\u001b[49m\n",
      "File \u001b[0;32m~/.local/share/virtualenvs/FerroFilter-1Ki31drB/lib/python3.10/site-packages/pde/pdes/laplace.py:61\u001b[0m, in \u001b[0;36msolve_poisson_equation\u001b[0;34m(rhs, bc, label, **kwargs)\u001b[0m\n\u001b[1;32m     59\u001b[0m bcs \u001b[38;5;241m=\u001b[39m rhs\u001b[38;5;241m.\u001b[39mgrid\u001b[38;5;241m.\u001b[39mget_boundary_conditions(bc)\n\u001b[1;32m     60\u001b[0m \u001b[38;5;66;03m# get the actual solver\u001b[39;00m\n\u001b[0;32m---> 61\u001b[0m solver \u001b[38;5;241m=\u001b[39m \u001b[43moperator\u001b[49m\u001b[38;5;241;43m.\u001b[39;49m\u001b[43mfactory\u001b[49m\u001b[43m(\u001b[49m\u001b[43mbcs\u001b[49m\u001b[38;5;241;43m=\u001b[39;49m\u001b[43mbcs\u001b[49m\u001b[43m,\u001b[49m\u001b[43m \u001b[49m\u001b[38;5;241;43m*\u001b[39;49m\u001b[38;5;241;43m*\u001b[39;49m\u001b[43mkwargs\u001b[49m\u001b[43m)\u001b[49m\n\u001b[1;32m     63\u001b[0m \u001b[38;5;66;03m# solve the poisson problem\u001b[39;00m\n\u001b[1;32m     64\u001b[0m result \u001b[38;5;241m=\u001b[39m ScalarField(rhs\u001b[38;5;241m.\u001b[39mgrid, label\u001b[38;5;241m=\u001b[39mlabel)\n",
      "File \u001b[0;32m~/.local/share/virtualenvs/FerroFilter-1Ki31drB/lib/python3.10/site-packages/pde/grids/operators/cartesian.py:1086\u001b[0m, in \u001b[0;36mmake_poisson_solver\u001b[0;34m(bcs, method)\u001b[0m\n\u001b[1;32m   1072\u001b[0m \u001b[38;5;129m@CartesianGrid\u001b[39m\u001b[38;5;241m.\u001b[39mregister_operator(\u001b[38;5;124m\"\u001b[39m\u001b[38;5;124mpoisson_solver\u001b[39m\u001b[38;5;124m\"\u001b[39m, rank_in\u001b[38;5;241m=\u001b[39m\u001b[38;5;241m0\u001b[39m, rank_out\u001b[38;5;241m=\u001b[39m\u001b[38;5;241m0\u001b[39m)\n\u001b[1;32m   1073\u001b[0m \u001b[38;5;28;01mdef\u001b[39;00m \u001b[38;5;21mmake_poisson_solver\u001b[39m(bcs: Boundaries, method: \u001b[38;5;28mstr\u001b[39m \u001b[38;5;241m=\u001b[39m \u001b[38;5;124m\"\u001b[39m\u001b[38;5;124mauto\u001b[39m\u001b[38;5;124m\"\u001b[39m) \u001b[38;5;241m-\u001b[39m\u001b[38;5;241m>\u001b[39m OperatorType:\n\u001b[1;32m   1074\u001b[0m     \u001b[38;5;124;03m\"\"\"make a operator that solves Poisson's equation\u001b[39;00m\n\u001b[1;32m   1075\u001b[0m \n\u001b[1;32m   1076\u001b[0m \u001b[38;5;124;03m    Args:\u001b[39;00m\n\u001b[0;32m   (...)\u001b[0m\n\u001b[1;32m   1084\u001b[0m \u001b[38;5;124;03m        A function that can be applied to an array of values\u001b[39;00m\n\u001b[1;32m   1085\u001b[0m \u001b[38;5;124;03m    \"\"\"\u001b[39;00m\n\u001b[0;32m-> 1086\u001b[0m     matrix, vector \u001b[38;5;241m=\u001b[39m \u001b[43m_get_laplace_matrix\u001b[49m\u001b[43m(\u001b[49m\u001b[43mbcs\u001b[49m\u001b[43m)\u001b[49m\n\u001b[1;32m   1087\u001b[0m     \u001b[38;5;28;01mreturn\u001b[39;00m make_general_poisson_solver(matrix, vector, method)\n",
      "File \u001b[0;32m~/.local/share/virtualenvs/FerroFilter-1Ki31drB/lib/python3.10/site-packages/pde/grids/operators/cartesian.py:161\u001b[0m, in \u001b[0;36m_get_laplace_matrix\u001b[0;34m(bcs)\u001b[0m\n\u001b[1;32m    159\u001b[0m     result \u001b[38;5;241m=\u001b[39m _get_laplace_matrix_2d(bcs)\n\u001b[1;32m    160\u001b[0m \u001b[38;5;28;01melse\u001b[39;00m:\n\u001b[0;32m--> 161\u001b[0m     \u001b[38;5;28;01mraise\u001b[39;00m \u001b[38;5;167;01mNotImplementedError\u001b[39;00m(\u001b[38;5;124mf\u001b[39m\u001b[38;5;124m\"\u001b[39m\u001b[38;5;132;01m{\u001b[39;00mdim\u001b[38;5;132;01m:\u001b[39;00m\u001b[38;5;124md\u001b[39m\u001b[38;5;132;01m}\u001b[39;00m\u001b[38;5;124m-dimensional Laplace matrix not implemented\u001b[39m\u001b[38;5;124m\"\u001b[39m)\n\u001b[1;32m    163\u001b[0m \u001b[38;5;28;01mreturn\u001b[39;00m result\n",
      "\u001b[0;31mNotImplementedError\u001b[0m: 3-dimensional Laplace matrix not implemented"
     ]
    }
   ],
   "source": [
    "grid = CartesianGrid([[0, 2 * np.pi]] * 3, 64)\n",
    "bcs = [{\"value\": \"sin(y)\"}, {\"value\": \"sin(x)\"}, {\"value\":\"sin(z)\"}]\n",
    "\n",
    "res = solve_laplace_equation(grid, bcs)\n",
    "res.plot()\n"
   ]
  },
  {
   "cell_type": "code",
   "execution_count": null,
   "metadata": {},
   "outputs": [],
   "source": []
  },
  {
   "cell_type": "markdown",
   "metadata": {},
   "source": [
    "## sfepy experiments"
   ]
  },
  {
   "cell_type": "code",
   "execution_count": 3,
   "metadata": {},
   "outputs": [],
   "source": [
    "import numpy as nm\n",
    "\n",
    "from sfepy.discrete.fem import Mesh, FEDomain, Field"
   ]
  },
  {
   "cell_type": "code",
   "execution_count": 5,
   "metadata": {},
   "outputs": [
    {
     "name": "stdout",
     "output_type": "stream",
     "text": [
      "sfepy:   reading mesh (/home/raul/.local/share/virtualenvs/FerroFilter-1Ki31drB/lib/python3.10/site-packages/sfepy/meshes/2d/rectangle_tri.mesh)...\n",
      "sfepy:     number of vertices: 258\n",
      "sfepy:     number of cells:\n",
      "sfepy:       2_3: 454\n",
      "sfepy:   ...done in 0.00 s\n"
     ]
    }
   ],
   "source": [
    "mesh = Mesh.from_file(data_dir+'/meshes/2d/rectangle_tri.mesh')"
   ]
  },
  {
   "cell_type": "code",
   "execution_count": 6,
   "metadata": {},
   "outputs": [],
   "source": [
    "domain = FEDomain('domain', mesh)"
   ]
  },
  {
   "cell_type": "code",
   "execution_count": 7,
   "metadata": {},
   "outputs": [],
   "source": [
    "min_x, max_x = domain.get_mesh_bounding_box()[:, 0]\n",
    "eps = 1e-8 * (max_x - min_x)\n",
    "\n",
    "omega = domain.create_region('Omega', 'all')\n",
    "gamma1 = domain.create_region('Gamma1',\n",
    "                              'vertices in x < %.10f' % (min_x + eps),\n",
    "                              'facet')\n",
    "\n",
    "gamma2 = domain.create_region('Gamma2',\n",
    "                              'vertices in x > %.10f' % (max_x - eps),\n",
    "                              'facet')"
   ]
  },
  {
   "cell_type": "code",
   "execution_count": 9,
   "metadata": {},
   "outputs": [],
   "source": [
    "field = Field.from_args('fu', nm.float64, 'vector', omega,\n",
    "                        approx_order=2)"
   ]
  },
  {
   "cell_type": "code",
   "execution_count": 10,
   "metadata": {},
   "outputs": [],
   "source": [
    "from sfepy.discrete import (FieldVariable, Material, Integral, Function,\n",
    "                            Equation, Equations, Problem)\n",
    "\n",
    "u = FieldVariable('u', 'unknown', field)\n",
    "v = FieldVariable('v', 'test', field, primary_var_name='u')"
   ]
  },
  {
   "cell_type": "code",
   "execution_count": 13,
   "metadata": {},
   "outputs": [],
   "source": [
    "from sfepy.mechanics.matcoefs import stiffness_from_lame\n",
    "\n",
    "m = Material('m', D=stiffness_from_lame(dim=2, lam=1.0, mu=1.0))\n",
    "f = Material('f', val=[[0.02], [0.01]])"
   ]
  },
  {
   "cell_type": "code",
   "execution_count": 11,
   "metadata": {},
   "outputs": [],
   "source": [
    "integral = Integral('i', order=3)"
   ]
  },
  {
   "cell_type": "markdown",
   "metadata": {},
   "source": [
    "from sfepy.terms import Term\n",
    "\n",
    "t1 = Term.new('dw_lin_elastic(m.D, v, u)',\n",
    "              integral, omega, m=m, v=v, u=u)\n",
    "\n",
    "t2 = Term.new('dw_volume_lvf(f.val, v)',\n",
    "              integral, omega, f=f, v=v)\n",
    "\n",
    "eq = Equation('balance', t1 + t2)\n",
    "eqs = Equations([eq])"
   ]
  },
  {
   "cell_type": "code",
   "execution_count": 15,
   "metadata": {},
   "outputs": [],
   "source": [
    "from sfepy.discrete.conditions import Conditions, EssentialBC\n",
    "\n",
    "fix_u = EssentialBC('fix_u', gamma1, {'u.all' : 0.0})\n",
    "def shift_u_fun(ts, coors, bc=None, problem=None, shift=0.0):\n",
    "    val = shift * coors[:,1]**2\n",
    "    return val\n",
    "\n",
    "bc_fun = Function('shift_u_fun', shift_u_fun,\n",
    "                  extra_args={'shift' : 0.01})\n",
    "shift_u = EssentialBC('shift_u', gamma2, {'u.0' : bc_fun})"
   ]
  },
  {
   "cell_type": "code",
   "execution_count": 16,
   "metadata": {},
   "outputs": [],
   "source": [
    "from sfepy.base.base import IndexedStruct\n",
    "from sfepy.solvers.ls import ScipyDirect\n",
    "from sfepy.solvers.nls import Newton\n",
    "\n",
    "ls = ScipyDirect({})\n",
    "\n",
    "nls_status = IndexedStruct()\n",
    "\n",
    "nls = Newton({}, lin_solver=ls, status=nls_status)"
   ]
  },
  {
   "cell_type": "code",
   "execution_count": 17,
   "metadata": {},
   "outputs": [],
   "source": [
    "pb = Problem('elasticity', equations=eqs)"
   ]
  },
  {
   "cell_type": "code",
   "execution_count": 18,
   "metadata": {},
   "outputs": [
    {
     "name": "stdout",
     "output_type": "stream",
     "text": [
      "sfepy:   saving regions as groups...\n",
      "sfepy:     Omega\n",
      "sfepy:     Gamma1\n",
      "sfepy:     Gamma2\n",
      "sfepy:   ...done\n"
     ]
    }
   ],
   "source": [
    "pb.save_regions_as_groups('regions')\n"
   ]
  },
  {
   "cell_type": "code",
   "execution_count": 22,
   "metadata": {},
   "outputs": [
    {
     "name": "stdout",
     "output_type": "stream",
     "text": [
      "mesh from regions.vtk:\n",
      "  points:  258\n",
      "  cells:   454\n",
      "  bounds:  [(-5.0, 5.0), (-10.0, 10.0), (0.0, 0.0)]\n",
      "  scalars: Omega, Gamma1, Gamma2, node_groups, mat_id\n",
      "  steps:   1\n",
      "/home/raul/.local/share/virtualenvs/FerroFilter-1Ki31drB/lib/python3.10/site-packages/pyvista/core/pointset.py:206: PyVistaDeprecationWarning: You did not specify a value for `inplace` and the default value will be changing to `False` in future versions for point-based meshes (e.g., `PolyData`). Please make sure you are not assuming this to be an inplace operation.\n",
      "  warnings.warn(DEFAULT_INPLACE_WARNING, PyVistaDeprecationWarning)\n",
      "plot 0: Omega(step 0)\n",
      "plot 1: Gamma1(step 0)\n",
      "plot 2: Gamma2(step 0)\n"
     ]
    }
   ],
   "source": [
    "! sfepy-view regions.vtk -2 --grid-vector1 \"[2, 0, 0]\"\n"
   ]
  },
  {
   "cell_type": "code",
   "execution_count": 33,
   "metadata": {},
   "outputs": [
    {
     "name": "stdout",
     "output_type": "stream",
     "text": [
      "sfepy:   updating variables...\n",
      "sfepy:   ...done\n",
      "sfepy:   setting up dof connectivities...\n",
      "sfepy:   ...done in 0.00 s\n",
      "sfepy:   matrix shape: (1815, 1815)\n",
      "sfepy:   assembling matrix graph...\n",
      "sfepy:   ...done in 0.00 s\n",
      "sfepy:   matrix structural nonzeros: 39145 (1.19e+00% fill)\n",
      "sfepy:   updating variables...\n",
      "sfepy:   ...done\n",
      "sfepy:   updating materials...\n",
      "sfepy:       m\n",
      "sfepy:       f\n",
      "sfepy:   ...done in 0.01 s\n",
      "sfepy:   nls: iter: 0, residual: 1.343114e+01 (rel: 1.000000e+00)\n",
      "sfepy:     residual:    0.04 [s]\n",
      "sfepy:       matrix:    0.00 [s]\n",
      "sfepy:        solve:    0.04 [s]\n",
      "sfepy:   nls: iter: 1, residual: 2.913563e-14 (rel: 2.169260e-15)\n"
     ]
    },
    {
     "data": {
      "text/html": [
       "<pre style=\"white-space:pre;overflow-x:auto;line-height:normal;font-family:Menlo,'DejaVu Sans Mono',consolas,'Courier New',monospace\"><span style=\"color: #808000; text-decoration-color: #808000; font-weight: bold\">Warning:</span><span style=\"color: #808000; text-decoration-color: #808000\"> VTK requires 3D vectors, but 2D vectors given. Appending </span><span style=\"color: #808000; text-decoration-color: #808000; font-weight: bold\">0</span><span style=\"color: #808000; text-decoration-color: #808000\"> third component to u.</span>\n",
       "</pre>\n"
      ],
      "text/plain": [
       "\u001b[1;33mWarning:\u001b[0m\u001b[33m VTK requires 3D vectors, but 2D vectors given. Appending \u001b[0m\u001b[1;33m0\u001b[0m\u001b[33m third component to u.\u001b[0m\n"
      ]
     },
     "metadata": {},
     "output_type": "display_data"
    },
    {
     "name": "stdout",
     "output_type": "stream",
     "text": [
      "sfepy:   solved in 1 steps in 0.11 seconds\n",
      "Nonlinear solver status:\n",
      " IndexedStruct\n",
      "  condition:\n",
      "    0\n",
      "  err:\n",
      "    2.9135626105662025e-14\n",
      "  err0:\n",
      "    13.431138597204924\n",
      "  ls_n_iter:\n",
      "    -1\n",
      "  n_iter:\n",
      "    1\n",
      "  time_stats:\n",
      "    dict with keys: ['residual', 'matrix', 'solve']\n",
      "Stationary solver status:\n",
      " IndexedStruct\n",
      "  n_step:\n",
      "    1\n",
      "  time:\n",
      "    0.10712266800010184\n"
     ]
    },
    {
     "data": {
      "text/html": [
       "<pre style=\"white-space:pre;overflow-x:auto;line-height:normal;font-family:Menlo,'DejaVu Sans Mono',consolas,'Courier New',monospace\"><span style=\"color: #808000; text-decoration-color: #808000; font-weight: bold\">Warning:</span><span style=\"color: #808000; text-decoration-color: #808000\"> VTK requires 3D vectors, but 2D vectors given. Appending </span><span style=\"color: #808000; text-decoration-color: #808000; font-weight: bold\">0</span><span style=\"color: #808000; text-decoration-color: #808000\"> third component to u.</span>\n",
       "</pre>\n"
      ],
      "text/plain": [
       "\u001b[1;33mWarning:\u001b[0m\u001b[33m VTK requires 3D vectors, but 2D vectors given. Appending \u001b[0m\u001b[1;33m0\u001b[0m\u001b[33m third component to u.\u001b[0m\n"
      ]
     },
     "metadata": {},
     "output_type": "display_data"
    }
   ],
   "source": [
    "pb.set_bcs(ebcs=Conditions([fix_u, shift_u]))\n",
    "pb.set_solver(nls)\n",
    "status = IndexedStruct()\n",
    "variables = pb.solve(status=status)\n",
    "\n",
    "print('Nonlinear solver status:\\n', nls_status)\n",
    "print('Stationary solver status:\\n', status)\n",
    "pb.save_state('linear_elasticity.vtk', variables)"
   ]
  },
  {
   "cell_type": "code",
   "execution_count": 34,
   "metadata": {},
   "outputs": [
    {
     "name": "stdout",
     "output_type": "stream",
     "text": [
      "mesh from linear_elasticity.vtk:\n",
      "  points:  258\n",
      "  cells:   454\n",
      "  bounds:  [(-5.0, 5.0), (-10.0, 10.0), (0.0, 0.0)]\n",
      "  scalars: node_groups, mat_id\n",
      "  vectors: u\n",
      "  steps:   1\n",
      "/home/raul/.local/share/virtualenvs/FerroFilter-1Ki31drB/lib/python3.10/site-packages/pyvista/core/pointset.py:206: PyVistaDeprecationWarning: You did not specify a value for `inplace` and the default value will be changing to `False` in future versions for point-based meshes (e.g., `PolyData`). Please make sure you are not assuming this to be an inplace operation.\n",
      "  warnings.warn(DEFAULT_INPLACE_WARNING, PyVistaDeprecationWarning)\n",
      "Traceback (most recent call last):\n",
      "  File \"/home/raul/.local/share/virtualenvs/FerroFilter-1Ki31drB/bin/sfepy-view\", line 8, in <module>\n",
      "    sys.exit(main())\n",
      "  File \"/home/raul/.local/share/virtualenvs/FerroFilter-1Ki31drB/lib/python3.10/site-packages/sfepy/scripts/resview.py\", line 857, in main\n",
      "    plotter = pv_plot(options.filenames, options, plotter=plotter)\n",
      "  File \"/home/raul/.local/share/virtualenvs/FerroFilter-1Ki31drB/lib/python3.10/site-packages/sfepy/scripts/resview.py\", line 534, in pv_plot\n",
      "    plotter.add_mesh(pipe[-1], scalars=scalar, color=color,\n",
      "  File \"/home/raul/.local/share/virtualenvs/FerroFilter-1Ki31drB/lib/python3.10/site-packages/pyvista/plotting/plotting.py\", line 3146, in add_mesh\n",
      "    prop = Property(**prop_kwargs)\n",
      "  File \"/home/raul/.local/share/virtualenvs/FerroFilter-1Ki31drB/lib/python3.10/site-packages/pyvista/plotting/_property.py\", line 196, in __init__\n",
      "    self.style = style\n",
      "  File \"/home/raul/.local/share/virtualenvs/FerroFilter-1Ki31drB/lib/python3.10/site-packages/pyvista/utilities/misc.py\", line 174, in __setattr__\n",
      "    object.__setattr__(self, name, value)\n",
      "  File \"/home/raul/.local/share/virtualenvs/FerroFilter-1Ki31drB/lib/python3.10/site-packages/pyvista/plotting/_property.py\", line 284, in style\n",
      "    raise ValueError(\n",
      "ValueError: Invalid style \"\".  Must be one of the following:\n",
      "\t\"surface\"\n",
      "\t\"wireframe\"\n",
      "\t\"points\"\n",
      "\n"
     ]
    }
   ],
   "source": [
    "! sfepy-view linear_elasticity.vtk -2"
   ]
  },
  {
   "cell_type": "markdown",
   "metadata": {},
   "source": []
  },
  {
   "cell_type": "markdown",
   "metadata": {},
   "source": [
    "## Magnetic field"
   ]
  },
  {
   "cell_type": "markdown",
   "metadata": {},
   "source": []
  },
  {
   "cell_type": "code",
   "execution_count": null,
   "metadata": {},
   "outputs": [],
   "source": []
  },
  {
   "cell_type": "code",
   "execution_count": null,
   "metadata": {},
   "outputs": [],
   "source": [
    "# Mesh dimensions.\n",
    "dims = [0.1, 0.1]\n",
    "\n",
    "# Mesh resolution: increase to improve accuracy.\n",
    "shape = [51, 51]\n",
    "\n",
    "def mesh_hook(mesh, mode):\n",
    "    \"\"\"\n",
    "    Generate the block mesh.\n",
    "    \"\"\"\n",
    "    if mode == 'read':\n",
    "        mesh = gen_block_mesh(dims, shape, [0, 0], name='user_block',\n",
    "                              verbose=False)\n",
    "        return mesh\n",
    "\n",
    "    elif mode == 'write':\n",
    "        pass\n",
    "\n",
    "filename_mesh = UserMeshIO(mesh_hook)\n",
    "\n",
    "regions = {\n",
    "    'Omega' : 'all',\n",
    "    'Left' : ('vertices in (x < -0.0499)', 'facet'),\n",
    "    'Right' : ('vertices in (x > 0.0499)', 'facet'),\n",
    "    'Bottom' : ('vertices in (y < -0.0499)', 'facet'),\n",
    "    'Top' : ('vertices in (y > 0.0499)', 'facet'),\n",
    "    'Walls' : ('r.Left +v r.Right +v r.Bottom', 'facet'),\n",
    "}\n",
    "\n",
    "materials = {\n",
    "    'fluid' : ({'viscosity' : 1.00e-2},),\n",
    "}\n",
    "\n",
    "fields = {\n",
    "    'velocity': ('real', 'vector', 'Omega', 2),\n",
    "    'pressure': ('real', 'scalar', 'Omega', 1),\n",
    "}\n",
    "\n",
    "variables = {\n",
    "    'u' : ('unknown field', 'velocity', 0),\n",
    "    'v' : ('test field', 'velocity', 'u'),\n",
    "    'p' : ('unknown field', 'pressure', 1),\n",
    "    'q' : ('test field', 'pressure', 'p'),\n",
    "}\n",
    "\n",
    "ebcs = {\n",
    "    '1_Walls' : ('Walls', {'u.all' : 0.0}),\n",
    "    '0_Driven' : ('Top', {'u.0' : 1.0, 'u.1' : 0.0}),\n",
    "    'Pressure' : ('Bottom', {'p.0' : 0.0}),\n",
    "}\n",
    "\n",
    "integrals = {\n",
    "    'i' : 4,\n",
    "}\n",
    "\n",
    "equations = {\n",
    "    'balance' :\n",
    "    \"\"\"+ dw_div_grad.i.Omega(fluid.viscosity, v, u)\n",
    "       + dw_convect.i.Omega(v, u)\n",
    "       - dw_stokes.i.Omega(v, p) = 0\"\"\",\n",
    "\n",
    "    'incompressibility' :\n",
    "    \"\"\"dw_stokes.i.Omega(u, q) = 0\"\"\",\n",
    "}\n",
    "\n",
    "solvers = {\n",
    "    'ls' : ('ls.scipy_direct', {}),\n",
    "    'newton' : ('nls.newton', {\n",
    "        'i_max'      : 15,\n",
    "        'eps_a'      : 1e-10,\n",
    "        'eps_r'      : 1.0,\n",
    "    }),\n",
    "}"
   ]
  },
  {
   "cell_type": "markdown",
   "metadata": {},
   "source": [
    "# --$\\verb|blank|$--"
   ]
  },
  {
   "cell_type": "markdown",
   "metadata": {},
   "source": []
  }
 ],
 "metadata": {
  "interpreter": {
   "hash": "7137e834119672dd79f4b246d76f1bd10cea8fdfe62078d3de0bd76adc407689"
  },
  "kernelspec": {
   "display_name": "Python 3.9.10 64-bit ('FerroFilter-1Ki31drB': pipenv)",
   "name": "python3"
  },
  "language_info": {
   "codemirror_mode": {
    "name": "ipython",
    "version": 3
   },
   "file_extension": ".py",
   "mimetype": "text/x-python",
   "name": "python",
   "nbconvert_exporter": "python",
   "pygments_lexer": "ipython3",
   "version": "3.9.10"
  },
  "orig_nbformat": 4
 },
 "nbformat": 4,
 "nbformat_minor": 2
}
