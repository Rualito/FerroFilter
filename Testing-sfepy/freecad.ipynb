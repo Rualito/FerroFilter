{
 "cells": [
  {
   "cell_type": "code",
   "execution_count": 1,
   "metadata": {},
   "outputs": [
    {
     "ename": "ModuleNotFoundError",
     "evalue": "No module named 'PySide2'",
     "output_type": "error",
     "traceback": [
      "\u001b[0;31m---------------------------------------------------------------------------\u001b[0m",
      "\u001b[0;31mModuleNotFoundError\u001b[0m                       Traceback (most recent call last)",
      "Cell \u001b[0;32mIn[1], line 8\u001b[0m\n\u001b[1;32m      5\u001b[0m \u001b[38;5;28;01mfrom\u001b[39;00m \u001b[38;5;21;01mFreeCAD\u001b[39;00m \u001b[38;5;28;01mimport\u001b[39;00m Base, newDocument\n\u001b[1;32m      7\u001b[0m \u001b[38;5;28;01mimport\u001b[39;00m \u001b[38;5;21;01mPart\u001b[39;00m\n\u001b[0;32m----> 8\u001b[0m \u001b[38;5;28;01mimport\u001b[39;00m \u001b[38;5;21;01mDraft\u001b[39;00m\n\u001b[1;32m      9\u001b[0m \u001b[38;5;28;01mimport\u001b[39;00m \u001b[38;5;21;01mProfileLib\u001b[39;00m\u001b[38;5;21;01m.\u001b[39;00m\u001b[38;5;21;01mRegularPolygon\u001b[39;00m \u001b[38;5;28;01mas\u001b[39;00m \u001b[38;5;21;01mPoly\u001b[39;00m\n",
      "File \u001b[0;32m/usr/lib/freecad/Mod/Draft/Draft.py:53\u001b[0m\n\u001b[1;32m     48\u001b[0m __url__ \u001b[38;5;241m=\u001b[39m \u001b[38;5;124m\"\u001b[39m\u001b[38;5;124mhttps://www.freecadweb.org\u001b[39m\u001b[38;5;124m\"\u001b[39m\n\u001b[1;32m     50\u001b[0m \u001b[38;5;66;03m# ---------------------------------------------------------------------------\u001b[39;00m\n\u001b[1;32m     51\u001b[0m \u001b[38;5;66;03m# Utility functions\u001b[39;00m\n\u001b[1;32m     52\u001b[0m \u001b[38;5;66;03m# ---------------------------------------------------------------------------\u001b[39;00m\n\u001b[0;32m---> 53\u001b[0m \u001b[38;5;28;01mfrom\u001b[39;00m \u001b[38;5;21;01mdraftutils\u001b[39;00m\u001b[38;5;21;01m.\u001b[39;00m\u001b[38;5;21;01mutils\u001b[39;00m \u001b[38;5;28;01mimport\u001b[39;00m ARROW_TYPES \u001b[38;5;28;01mas\u001b[39;00m arrowtypes\n\u001b[1;32m     55\u001b[0m \u001b[38;5;28;01mfrom\u001b[39;00m \u001b[38;5;21;01mdraftutils\u001b[39;00m\u001b[38;5;21;01m.\u001b[39;00m\u001b[38;5;21;01mutils\u001b[39;00m \u001b[38;5;28;01mimport\u001b[39;00m (type_check,\n\u001b[1;32m     56\u001b[0m                               typecheck,\n\u001b[1;32m     57\u001b[0m                               get_param_type,\n\u001b[0;32m   (...)\u001b[0m\n\u001b[1;32m     64\u001b[0m                               tolerance,\n\u001b[1;32m     65\u001b[0m                               epsilon)\n\u001b[1;32m     67\u001b[0m \u001b[38;5;28;01mfrom\u001b[39;00m \u001b[38;5;21;01mdraftutils\u001b[39;00m\u001b[38;5;21;01m.\u001b[39;00m\u001b[38;5;21;01mutils\u001b[39;00m \u001b[38;5;28;01mimport\u001b[39;00m (get_real_name,\n\u001b[1;32m     68\u001b[0m                               getRealName,\n\u001b[1;32m     69\u001b[0m                               get_type,\n\u001b[0;32m   (...)\u001b[0m\n\u001b[1;32m     84\u001b[0m                               is_closed_edge,\n\u001b[1;32m     85\u001b[0m                               isClosedEdge)\n",
      "File \u001b[0;32m/usr/lib/freecad/Mod/Draft/draftutils/utils.py:39\u001b[0m\n\u001b[1;32m     32\u001b[0m \u001b[38;5;66;03m## @package utils\u001b[39;00m\n\u001b[1;32m     33\u001b[0m \u001b[38;5;66;03m# \\ingroup draftutils\u001b[39;00m\n\u001b[1;32m     34\u001b[0m \u001b[38;5;66;03m# \\brief Provides general utility functions used throughout the workbench.\u001b[39;00m\n\u001b[1;32m     35\u001b[0m \n\u001b[1;32m     36\u001b[0m \u001b[38;5;66;03m## \\addtogroup draftutils\u001b[39;00m\n\u001b[1;32m     37\u001b[0m \u001b[38;5;66;03m# @{\u001b[39;00m\n\u001b[1;32m     38\u001b[0m \u001b[38;5;28;01mimport\u001b[39;00m \u001b[38;5;21;01mos\u001b[39;00m\n\u001b[0;32m---> 39\u001b[0m \u001b[38;5;28;01mimport\u001b[39;00m \u001b[38;5;21;01mPySide\u001b[39;00m\u001b[38;5;21;01m.\u001b[39;00m\u001b[38;5;21;01mQtCore\u001b[39;00m \u001b[38;5;28;01mas\u001b[39;00m \u001b[38;5;21;01mQtCore\u001b[39;00m\n\u001b[1;32m     41\u001b[0m \u001b[38;5;28;01mimport\u001b[39;00m \u001b[38;5;21;01mFreeCAD\u001b[39;00m \u001b[38;5;28;01mas\u001b[39;00m \u001b[38;5;21;01mApp\u001b[39;00m\n\u001b[1;32m     43\u001b[0m \u001b[38;5;28;01mfrom\u001b[39;00m \u001b[38;5;21;01mdraftutils\u001b[39;00m\u001b[38;5;21;01m.\u001b[39;00m\u001b[38;5;21;01mmessages\u001b[39;00m \u001b[38;5;28;01mimport\u001b[39;00m _msg, _wrn, _err, _log\n",
      "File \u001b[0;32m/usr/lib/freecad/Ext/PySide/__init__.py:2\u001b[0m\n\u001b[1;32m      1\u001b[0m \u001b[38;5;66;03m# PySide wrapper\u001b[39;00m\n\u001b[0;32m----> 2\u001b[0m \u001b[38;5;28;01mfrom\u001b[39;00m \u001b[38;5;21;01mPySide2\u001b[39;00m \u001b[38;5;28;01mimport\u001b[39;00m __version__\n\u001b[1;32m      3\u001b[0m \u001b[38;5;28;01mfrom\u001b[39;00m \u001b[38;5;21;01mPySide2\u001b[39;00m \u001b[38;5;28;01mimport\u001b[39;00m __version_info__\n",
      "\u001b[0;31mModuleNotFoundError\u001b[0m: No module named 'PySide2'"
     ]
    }
   ],
   "source": [
    "import sys\n",
    "FREECADPATH = '/usr/lib/freecad/lib/'\n",
    "sys.path.append(FREECADPATH)\n",
    "\n",
    "from FreeCAD import Base, newDocument\n",
    "\n",
    "import Part\n",
    "import Draft\n",
    "import ProfileLib.RegularPolygon as Poly"
   ]
  },
  {
   "cell_type": "markdown",
   "metadata": {},
   "source": [
    "numpy = \"*\"\n",
    "scipy = \"*\"\n",
    "matplotlib = \"*\"\n",
    "pandas = \"*\"\n",
    "py-pde = \"*\"\n",
    "\n",
    "sfepy = \"*\"\n",
    "pyvista = \"*\"\n",
    "pytest = \"*\"\n",
    "pyamg = \"*\"\n",
    "pyside2 = \"*\"\n"
   ]
  },
  {
   "cell_type": "code",
   "execution_count": null,
   "metadata": {},
   "outputs": [],
   "source": [
    "doc = newDocument()"
   ]
  }
 ],
 "metadata": {
  "interpreter": {
   "hash": "7137e834119672dd79f4b246d76f1bd10cea8fdfe62078d3de0bd76adc407689"
  },
  "kernelspec": {
   "display_name": "Python 3.9.10 64-bit ('FerroFilter-1Ki31drB': pipenv)",
   "name": "python3"
  },
  "language_info": {
   "codemirror_mode": {
    "name": "ipython",
    "version": 3
   },
   "file_extension": ".py",
   "mimetype": "text/x-python",
   "name": "python",
   "nbconvert_exporter": "python",
   "pygments_lexer": "ipython3",
   "version": "3.9.10"
  },
  "orig_nbformat": 4
 },
 "nbformat": 4,
 "nbformat_minor": 2
}
